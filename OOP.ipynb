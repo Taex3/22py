{
 "cells": [
  {
   "cell_type": "code",
   "execution_count": 9,
   "metadata": {},
   "outputs": [],
   "source": [
    "class Student:\n",
    "    def __init__(self, name, age, grade):\n",
    "        self.name = name\n",
    "        self.age = age\n",
    "        self.grade = grade # 0 - 100\n",
    "    def get_grade(self):\n",
    "        return self.grade \n",
    "        \n",
    "          \n",
    "class Course:\n",
    "    def __init__(self, name, max_students):\n",
    "         self.name = name\n",
    "         self.max_students = max_students\n",
    "         self.students = []\n",
    "    def add_student(self, student):\n",
    "        if len(self.students) < self.max_students:\n",
    "            self.students.append(student)\n",
    "            return True\n",
    "        return False    \n",
    "    def get_average_grade(self):\n",
    "        value = 0\n",
    "        for student in self.students:\n",
    "            value += student.get_grade()\n",
    "        return value / len(self.students)    \n",
    "\n",
    "\n",
    "\n",
    "\n",
    "\n"
   ]
  },
  {
   "cell_type": "code",
   "execution_count": 10,
   "metadata": {},
   "outputs": [],
   "source": [
    "s1 = Student(\"Tim\", 19, 95)\n",
    "s2 = Student(\"Bill\", 19, 75)\n",
    "s3 = Student(\"Jill\", 19, 65)"
   ]
  },
  {
   "cell_type": "code",
   "execution_count": 11,
   "metadata": {},
   "outputs": [
    {
     "name": "stdout",
     "output_type": "stream",
     "text": [
      "85.0\n"
     ]
    }
   ],
   "source": [
    "course = Course(\"Science\", 2)\n",
    "course.add_student(s1)\n",
    "course.add_student(s2)\n",
    "print(course.get_average_grade())"
   ]
  }
 ],
 "metadata": {
  "kernelspec": {
   "display_name": "Python 3.10.6 64-bit",
   "language": "python",
   "name": "python3"
  },
  "language_info": {
   "codemirror_mode": {
    "name": "ipython",
    "version": 3
   },
   "file_extension": ".py",
   "mimetype": "text/x-python",
   "name": "python",
   "nbconvert_exporter": "python",
   "pygments_lexer": "ipython3",
   "version": "3.10.6"
  },
  "orig_nbformat": 4,
  "vscode": {
   "interpreter": {
    "hash": "d4edd4234e9246a1c38d650562555210ec1f4e15f36b70b9866e3ca7e6772d03"
   }
  }
 },
 "nbformat": 4,
 "nbformat_minor": 2
}
